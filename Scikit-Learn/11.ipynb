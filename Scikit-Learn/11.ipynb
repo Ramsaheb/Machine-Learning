{
 "cells": [
  {
   "cell_type": "markdown",
   "id": "7edbc1f0-172a-4a94-b46e-4ec410a31b19",
   "metadata": {},
   "source": [
    "# Adaboost ALGO"
   ]
  },
  {
   "cell_type": "code",
   "execution_count": null,
   "id": "f56393fb-3fc6-4965-8614-bafd45bde9e3",
   "metadata": {},
   "outputs": [],
   "source": []
  }
 ],
 "metadata": {
  "kernelspec": {
   "display_name": "Python 3 (ipykernel)",
   "language": "python",
   "name": "python3"
  },
  "language_info": {
   "codemirror_mode": {
    "name": "ipython",
    "version": 3
   },
   "file_extension": ".py",
   "mimetype": "text/x-python",
   "name": "python",
   "nbconvert_exporter": "python",
   "pygments_lexer": "ipython3",
   "version": "3.10.13"
  }
 },
 "nbformat": 4,
 "nbformat_minor": 5
}
