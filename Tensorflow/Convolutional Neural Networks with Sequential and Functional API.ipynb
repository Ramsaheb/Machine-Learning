{
 "cells": [
  {
   "cell_type": "code",
   "execution_count": 27,
   "id": "12bbbab9-03fe-434f-b2f4-12e86ef9a38e",
   "metadata": {},
   "outputs": [],
   "source": [
    "from keras import Sequential, losses, optimizers, Model\n",
    "from tensorflow.keras.layers import Conv2D, Input, Dense, MaxPooling2D, Flatten, BatchNormalization\n",
    "from tensorflow.keras.datasets import cifar10\n",
    "from keras.activations import relu"
   ]
  },
  {
   "cell_type": "code",
   "execution_count": 7,
   "id": "d0d49df9-fe55-436c-8df4-dd9cb35d98a6",
   "metadata": {},
   "outputs": [
    {
     "name": "stdout",
     "output_type": "stream",
     "text": [
      "(50000, 32, 32, 3) (50000, 1) (10000, 1) (10000, 32, 32, 3)\n"
     ]
    }
   ],
   "source": [
    "(x_train, y_train), (x_test, y_test) = cifar10.load_data()\n",
    "print(x_train.shape, y_train.shape, y_test.shape, x_test.shape)"
   ]
  },
  {
   "cell_type": "code",
   "execution_count": 8,
   "id": "7de2ff5c-9445-436a-a17f-72722b6c194c",
   "metadata": {},
   "outputs": [],
   "source": [
    "x_train = x_train.astype('float32')/255\n",
    "x_test = x_test.astype('float32')/255"
   ]
  },
  {
   "cell_type": "code",
   "execution_count": 9,
   "id": "74cd45e0-1a7a-4933-a73f-03a9eae6ca77",
   "metadata": {},
   "outputs": [],
   "source": [
    "model = Sequential(\n",
    "    [\n",
    "        Input(shape=(32, 32, 3)),\n",
    "        Conv2D(32, 3, padding='valid', activation='relu'),\n",
    "        MaxPooling2D(pool_size=(2, 2)),\n",
    "        Conv2D(64, 3, activation='relu'),\n",
    "        MaxPooling2D(),\n",
    "        Conv2D(128, 3, activation='relu'),\n",
    "        Flatten(),\n",
    "        Dense(64, activation='relu'),\n",
    "        Dense(10)\n",
    "    ]\n",
    ")"
   ]
  },
  {
   "cell_type": "code",
   "execution_count": 28,
   "id": "6a88b1c4-382b-40dc-ac6c-2611c3e09b4d",
   "metadata": {},
   "outputs": [],
   "source": [
    "def my_model():\n",
    "    inputs = Input(shape=(32, 32, 3))\n",
    "    x = Conv2D(32, 3)(inputs)\n",
    "    x = BatchNormalization()(x)\n",
    "    x = relu(x)\n",
    "    x = MaxPooling2D()(x)\n",
    "    x = Conv2D(64, 3, padding='same')(x)\n",
    "    x = BatchNormalization()(x)\n",
    "    x = relu(x)\n",
    "    x = Conv2D(128, 3)(x)\n",
    "    x = BatchNormalization()(x)\n",
    "    x = relu(x)\n",
    "    x = Flatten()(x)\n",
    "    x = Dense(64, activation='relu')(x)\n",
    "    outputs = Dense(10)(x)\n",
    "    model = Model(inputs=inputs, outputs=outputs)\n",
    "    return model\n",
    "\n",
    "model = my_model()"
   ]
  },
  {
   "cell_type": "code",
   "execution_count": 29,
   "id": "6b672c0c-e870-4bad-b333-b9a44acce31b",
   "metadata": {},
   "outputs": [],
   "source": [
    "model.compile(\n",
    "    loss=losses.SparseCategoricalCrossentropy(from_logits=True),\n",
    "    optimizer=optimizers.Adam(learning_rate=3e-4),\n",
    "    metrics=['accuracy']\n",
    ")"
   ]
  },
  {
   "cell_type": "code",
   "execution_count": 30,
   "id": "7224346c-4b6f-4e9b-a765-5579513570ec",
   "metadata": {},
   "outputs": [
    {
     "name": "stdout",
     "output_type": "stream",
     "text": [
      "Epoch 1/10\n",
      "782/782 - 33s - loss: 1.3131 - accuracy: 0.5319 - 33s/epoch - 42ms/step\n",
      "Epoch 2/10\n",
      "782/782 - 44s - loss: 0.8745 - accuracy: 0.6923 - 44s/epoch - 56ms/step\n",
      "Epoch 3/10\n",
      "782/782 - 39s - loss: 0.7140 - accuracy: 0.7508 - 39s/epoch - 50ms/step\n",
      "Epoch 4/10\n",
      "782/782 - 39s - loss: 0.5954 - accuracy: 0.7944 - 39s/epoch - 50ms/step\n",
      "Epoch 5/10\n",
      "782/782 - 41s - loss: 0.5013 - accuracy: 0.8273 - 41s/epoch - 52ms/step\n",
      "Epoch 6/10\n",
      "782/782 - 43s - loss: 0.4182 - accuracy: 0.8576 - 43s/epoch - 55ms/step\n",
      "Epoch 7/10\n",
      "782/782 - 44s - loss: 0.3412 - accuracy: 0.8864 - 44s/epoch - 56ms/step\n",
      "Epoch 8/10\n",
      "782/782 - 37s - loss: 0.2808 - accuracy: 0.9082 - 37s/epoch - 48ms/step\n",
      "Epoch 9/10\n",
      "782/782 - 44s - loss: 0.2256 - accuracy: 0.9277 - 44s/epoch - 56ms/step\n",
      "Epoch 10/10\n",
      "782/782 - 40s - loss: 0.1768 - accuracy: 0.9455 - 40s/epoch - 51ms/step\n"
     ]
    },
    {
     "data": {
      "text/plain": [
       "<keras.callbacks.History at 0x2250bdcbee0>"
      ]
     },
     "execution_count": 30,
     "metadata": {},
     "output_type": "execute_result"
    }
   ],
   "source": [
    "model.fit(\n",
    "    x_train, y_train, batch_size=64, epochs=10, verbose=2\n",
    ")\n"
   ]
  },
  {
   "cell_type": "code",
   "execution_count": 14,
   "id": "2119cb3e-880d-4c12-9f23-ba8b3acdd345",
   "metadata": {},
   "outputs": [
    {
     "data": {
      "text/plain": [
       "[0.8873487114906311, 0.6927000284194946]"
      ]
     },
     "execution_count": 14,
     "metadata": {},
     "output_type": "execute_result"
    }
   ],
   "source": [
    "model.evaluate(\n",
    "    x_test, y_test, batch_size=64, verbose=0\n",
    ")"
   ]
  },
  {
   "cell_type": "code",
   "execution_count": 15,
   "id": "25725ea0-6079-4f22-8950-479c3365577d",
   "metadata": {},
   "outputs": [
    {
     "name": "stdout",
     "output_type": "stream",
     "text": [
      "Model: \"sequential\"\n",
      "_________________________________________________________________\n",
      " Layer (type)                Output Shape              Param #   \n",
      "=================================================================\n",
      " conv2d (Conv2D)             (None, 30, 30, 32)        896       \n",
      "                                                                 \n",
      " max_pooling2d (MaxPooling2D  (None, 15, 15, 32)       0         \n",
      " )                                                               \n",
      "                                                                 \n",
      " conv2d_1 (Conv2D)           (None, 13, 13, 64)        18496     \n",
      "                                                                 \n",
      " max_pooling2d_1 (MaxPooling  (None, 6, 6, 64)         0         \n",
      " 2D)                                                             \n",
      "                                                                 \n",
      " conv2d_2 (Conv2D)           (None, 4, 4, 128)         73856     \n",
      "                                                                 \n",
      " flatten (Flatten)           (None, 2048)              0         \n",
      "                                                                 \n",
      " dense (Dense)               (None, 64)                131136    \n",
      "                                                                 \n",
      " dense_1 (Dense)             (None, 10)                650       \n",
      "                                                                 \n",
      "=================================================================\n",
      "Total params: 225,034\n",
      "Trainable params: 225,034\n",
      "Non-trainable params: 0\n",
      "_________________________________________________________________\n"
     ]
    }
   ],
   "source": [
    "model.summary()"
   ]
  },
  {
   "cell_type": "code",
   "execution_count": null,
   "id": "f9a25c82-6e81-41a4-bfba-d371a8eeda0c",
   "metadata": {},
   "outputs": [],
   "source": []
  }
 ],
 "metadata": {
  "kernelspec": {
   "display_name": "Python 3 (ipykernel)",
   "language": "python",
   "name": "python3"
  },
  "language_info": {
   "codemirror_mode": {
    "name": "ipython",
    "version": 3
   },
   "file_extension": ".py",
   "mimetype": "text/x-python",
   "name": "python",
   "nbconvert_exporter": "python",
   "pygments_lexer": "ipython3",
   "version": "3.10.13"
  }
 },
 "nbformat": 4,
 "nbformat_minor": 5
}
