{
 "cells": [
  {
   "cell_type": "code",
   "execution_count": 1,
   "id": "5acbb463-98ba-4760-be45-cc3ba140755b",
   "metadata": {},
   "outputs": [],
   "source": [
    "from tensorflow.keras.models import Sequential\n",
    "from tensorflow.keras.layers import Dense, Dropout\n",
    "from sklearn.model_selection import train_test_split\n",
    "from numpy import loadtxt\n",
    "from keras.utils import plot_model"
   ]
  },
  {
   "cell_type": "code",
   "execution_count": 2,
   "id": "76ca6c86-d8a9-4f67-9db4-154a9235cde3",
   "metadata": {},
   "outputs": [],
   "source": [
    "data = loadtxt('heart.csv', delimiter=',', skiprows=1)"
   ]
  },
  {
   "cell_type": "code",
   "execution_count": 3,
   "id": "ecffc175-c823-4ec1-9f10-d0d39e02adb4",
   "metadata": {},
   "outputs": [],
   "source": [
    "x = data[:, 0:12]\n",
    "y = data[:, 13]"
   ]
  },
  {
   "cell_type": "code",
   "execution_count": 4,
   "id": "5a132b99-8520-441c-b0a9-fc66355b0900",
   "metadata": {},
   "outputs": [
    {
     "name": "stdout",
     "output_type": "stream",
     "text": [
      "x: [[52.   1.   0.  ...  1.   2.   2. ]\n",
      " [53.   1.   0.  ...  3.1  0.   0. ]\n",
      " [70.   1.   0.  ...  2.6  0.   0. ]\n",
      " ...\n",
      " [47.   1.   0.  ...  1.   1.   1. ]\n",
      " [50.   0.   0.  ...  0.   2.   0. ]\n",
      " [54.   1.   0.  ...  1.4  1.   1. ]] y: [0. 0. 0. ... 0. 1. 0.]\n"
     ]
    }
   ],
   "source": [
    "print('x:',x, 'y:', y)"
   ]
  },
  {
   "cell_type": "code",
   "execution_count": 5,
   "id": "64405f1f-da28-4769-8402-7a0980770991",
   "metadata": {},
   "outputs": [],
   "source": [
    "x_train, x_test, y_train, y_test = train_test_split(x, y, test_size=0.3, random_state=42)"
   ]
  },
  {
   "cell_type": "code",
   "execution_count": 6,
   "id": "ca0b494e-06ea-4f3c-95b0-dbba7d185026",
   "metadata": {},
   "outputs": [
    {
     "name": "stdout",
     "output_type": "stream",
     "text": [
      "(717, 12) (308, 12) (717,) (308,)\n"
     ]
    }
   ],
   "source": [
    "print(x_train.shape, x_test.shape, y_train.shape, y_test.shape)"
   ]
  },
  {
   "cell_type": "code",
   "execution_count": 7,
   "id": "8f7ad3b3-218a-4a1d-a308-3039595a9531",
   "metadata": {},
   "outputs": [],
   "source": [
    "model = Sequential(\n",
    "    [\n",
    "        Dense(64, input_dim=12, activation='relu'),\n",
    "        Dense(32, activation='relu'),\n",
    "        Dropout(0.2),\n",
    "        Dense(16, activation='relu'),\n",
    "        Dense(1, activation='sigmoid')\n",
    "    ]\n",
    ")"
   ]
  },
  {
   "cell_type": "code",
   "execution_count": 8,
   "id": "83173ea3-9f80-4260-8f5a-7242756b8513",
   "metadata": {},
   "outputs": [
    {
     "data": {
      "image/png": "[encoded data removed]",
      "text/plain": [
       "<IPython.core.display.Image object>"
      ]
     },
     "execution_count": 8,
     "metadata": {},
     "output_type": "execute_result"
    }
   ],
   "source": [
    "plot_model(model, show_shapes=True, show_layer_names=True)"
   ]
  },
  {
   "cell_type": "code",
   "execution_count": 9,
   "id": "200b97c1-52eb-4db9-878c-efe6fa5f5462",
   "metadata": {},
   "outputs": [],
   "source": [
    "model.compile(loss='binary_crossentropy', optimizer='adam', metrics=['accuracy'])"
   ]
  },
  {
   "cell_type": "code",
   "execution_count": 10,
   "id": "587ccdb6-1500-46cd-9414-02310e7e8518",
   "metadata": {},
   "outputs": [
    {
     "data": {
      "text/plain": [
       "<keras.callbacks.History at 0x225f834e980>"
      ]
     },
     "execution_count": 10,
     "metadata": {},
     "output_type": "execute_result"
    }
   ],
   "source": [
    "model.fit(x_train, y_train, epochs=100, batch_size=100, verbose=0)"
   ]
  },
  {
   "cell_type": "code",
   "execution_count": 11,
   "id": "e19a8e9f-16d3-486c-8f92-f7b63c0ab82d",
   "metadata": {},
   "outputs": [
    {
     "name": "stdout",
     "output_type": "stream",
     "text": [
      "model loss: 47.46, model accuracy: 76.30\n"
     ]
    }
   ],
   "source": [
    "loss, accuracy = model.evaluate(x_test, y_test, verbose=0)\n",
    "print('model loss: %.2f, model accuracy: %.2f' % ((loss*100),(accuracy*100)))"
   ]
  },
  {
   "cell_type": "code",
   "execution_count": 12,
   "id": "cbaea00a-e37c-4aac-a0ff-71e2ef43963e",
   "metadata": {},
   "outputs": [
    {
     "ename": "AttributeError",
     "evalue": "'Sequential' object has no attribute 'predict_classes'",
     "output_type": "error",
     "traceback": [
      "\u001b[1;31m---------------------------------------------------------------------------\u001b[0m",
      "\u001b[1;31mAttributeError\u001b[0m                            Traceback (most recent call last)",
      "Cell \u001b[1;32mIn[12], line 1\u001b[0m\n\u001b[1;32m----> 1\u001b[0m predictions \u001b[38;5;241m=\u001b[39m \u001b[43mmodel\u001b[49m\u001b[38;5;241;43m.\u001b[39;49m\u001b[43mpredict_classes\u001b[49m(x_test)\n\u001b[0;32m      2\u001b[0m m \u001b[38;5;241m=\u001b[39m \u001b[38;5;241m0\u001b[39m\n\u001b[0;32m      3\u001b[0m \u001b[38;5;28;01mfor\u001b[39;00m i \u001b[38;5;129;01min\u001b[39;00m \u001b[38;5;28mrange\u001b[39m(\u001b[38;5;28mlen\u001b[39m(x_test)):\n",
      "\u001b[1;31mAttributeError\u001b[0m: 'Sequential' object has no attribute 'predict_classes'"
     ]
    }
   ],
   "source": [
    "predictions = model.predict_classes(x_test)\n",
    "m = 0\n",
    "for i in range(len(x_test)):\n",
    "    if predictions[i] == 1:\n",
    "        m += 1\n",
    "    print('predicted %d ===> expected %d' % (predictions[i], y_test[i]))\n",
    "print(m)"
   ]
  },
  {
   "cell_type": "code",
   "execution_count": null,
   "id": "8b382232-bf4a-4a53-b07c-71e4359c6085",
   "metadata": {},
   "outputs": [],
   "source": []
  }
 ],
 "metadata": {
  "kernelspec": {
   "display_name": "Python 3 (ipykernel)",
   "language": "python",
   "name": "python3"
  },
  "language_info": {
   "codemirror_mode": {
    "name": "ipython",
    "version": 3
   },
   "file_extension": ".py",
   "mimetype": "text/x-python",
   "name": "python",
   "nbconvert_exporter": "python",
   "pygments_lexer": "ipython3",
   "version": "3.10.13"
  }
 },
 "nbformat": 4,
 "nbformat_minor": 5
}
