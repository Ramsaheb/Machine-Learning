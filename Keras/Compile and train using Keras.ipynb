{
 "cells": [
  {
   "cell_type": "code",
   "execution_count": 1,
   "id": "5fea0b6c-6b35-424f-96fc-dbed4a087052",
   "metadata": {},
   "outputs": [],
   "source": [
    "from tensorflow.keras.models import Sequential\n",
    "from tensorflow.keras.layers import Dense\n",
    "from tensorflow.keras.utils import plot_model\n",
    "from numpy import loadtxt"
   ]
  },
  {
   "cell_type": "code",
   "execution_count": 2,
   "id": "5c6e222e-a92b-41e5-9425-1a428fccddf9",
   "metadata": {},
   "outputs": [],
   "source": [
    "# import pandas as pd\n",
    "\n",
    "# # Load the dataset\n",
    "# df = pd.read_csv('diabetes.csv')\n",
    "\n",
    "# # Remove the 'Pregnancies' column\n",
    "# new_dataset = df.drop(columns=['Pregnancies'])\n",
    "\n",
    "# # Save the new dataset to a new CSV file\n",
    "# new_dataset.to_csv('diabetes_no_pregnancies.csv', index=False)\n"
   ]
  },
  {
   "cell_type": "code",
   "execution_count": 5,
   "id": "83aefe76-da19-4268-954e-701c35b34431",
   "metadata": {},
   "outputs": [
    {
     "name": "stdout",
     "output_type": "stream",
     "text": [
      "   Pregnancies  Glucose  BloodPressure  SkinThickness  Insulin   BMI  \\\n",
      "0            6      148             72             35        0  33.6   \n",
      "1            1       85             66             29        0  26.6   \n",
      "2            8      183             64              0        0  23.3   \n",
      "3            1       89             66             23       94  28.1   \n",
      "4            0      137             40             35      168  43.1   \n",
      "\n",
      "   DiabetesPedigreeFunction  Age  Outcome  \n",
      "0                     0.627   50        1  \n",
      "1                     0.351   31        0  \n",
      "2                     0.672   32        1  \n",
      "3                     0.167   21        0  \n",
      "4                     2.288   33        1  \n"
     ]
    }
   ],
   "source": [
    "import pandas as pd\n",
    "\n",
    "# Load the dataset using pandas\n",
    "df = pd.read_csv('diabetes.csv')\n",
    "\n",
    "# Convert all columns to float (if possible)\n",
    "df = df.apply(pd.to_numeric, errors='coerce')\n",
    "\n",
    "# Split the data into features (x) and target (y)\n",
    "x = df.iloc[:, 0:8].values  # First 8 columns as features\n",
    "y = df.iloc[:, 8].values    # 9th column as target (label)\n",
    "\n",
    "# Display the first few rows of the data to confirm\n",
    "print(df.head())\n",
    "\n",
    "# You can now use the dataset for training a model\n"
   ]
  },
  {
   "cell_type": "code",
   "execution_count": 6,
   "id": "859ff59b-d6b0-4ef6-8ad3-ab3748f0748f",
   "metadata": {},
   "outputs": [],
   "source": [
    "model = Sequential()\n",
    "model.add(Dense(2, input_dim=8, activation='relu'))\n",
    "model.add(Dense(1, activation='sigmoid'))"
   ]
  },
  {
   "cell_type": "code",
   "execution_count": 7,
   "id": "7345de2d-9d8b-404d-8216-c06604835db1",
   "metadata": {},
   "outputs": [],
   "source": [
    "plot_model(model, show_shapes=True, show_layer_names=True)\n",
    "model.compile(loss='binary_crossentropy', optimizer='adam', metrics=['accuracy'])"
   ]
  },
  {
   "cell_type": "code",
   "execution_count": 8,
   "id": "22fc376b-eca2-49e1-bce1-4a349f3c9c5a",
   "metadata": {},
   "outputs": [
    {
     "data": {
      "text/plain": [
       "<keras.callbacks.History at 0x1c265325570>"
      ]
     },
     "execution_count": 8,
     "metadata": {},
     "output_type": "execute_result"
    }
   ],
   "source": [
    "model.fit(x, y, epochs=100, batch_size=10, verbose=0)"
   ]
  },
  {
   "cell_type": "code",
   "execution_count": 9,
   "id": "3dadc131-1f04-4387-a196-f9f68d7b2cf2",
   "metadata": {},
   "outputs": [
    {
     "name": "stdout",
     "output_type": "stream",
     "text": [
      "model loss : 61.24, accuracy: 69.14\n"
     ]
    }
   ],
   "source": [
    "loss, accuracy = model.evaluate(x, y, verbose=0)\n",
    "print('model loss : %.2f, accuracy: %.2f' % ((loss*100), (accuracy*100)))"
   ]
  },
  {
   "cell_type": "code",
   "execution_count": 11,
   "id": "55d8d04f-f6ab-4fa2-af68-d817a4081bf8",
   "metadata": {},
   "outputs": [
    {
     "name": "stdout",
     "output_type": "stream",
     "text": [
      "24/24 [==============================] - 0s 2ms/step\n"
     ]
    }
   ],
   "source": [
    "predictions = model.predict(x)"
   ]
  },
  {
   "cell_type": "code",
   "execution_count": null,
   "id": "d341bbd2-fe13-449a-8534-e376a155a0a0",
   "metadata": {},
   "outputs": [],
   "source": [
    "for i in range(10):\n",
    "    print('predicted %d ---> Expected %d' % (predictions[i]))"
   ]
  }
 ],
 "metadata": {
  "kernelspec": {
   "display_name": "Python 3 (ipykernel)",
   "language": "python",
   "name": "python3"
  },
  "language_info": {
   "codemirror_mode": {
    "name": "ipython",
    "version": 3
   },
   "file_extension": ".py",
   "mimetype": "text/x-python",
   "name": "python",
   "nbconvert_exporter": "python",
   "pygments_lexer": "ipython3",
   "version": "3.10.13"
  }
 },
 "nbformat": 4,
 "nbformat_minor": 5
}
