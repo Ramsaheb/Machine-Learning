{
 "cells": [
  {
   "cell_type": "markdown",
   "id": "4a4b8ba3-b2a8-45a7-a3a9-6cf12643af0d",
   "metadata": {},
   "source": [
    "# Initializers"
   ]
  },
  {
   "cell_type": "code",
   "execution_count": 9,
   "id": "5d9896ce-1f61-402c-8e17-82aeafac0dad",
   "metadata": {},
   "outputs": [],
   "source": [
    "from keras import backend as b\n",
    "from tensorflow.keras.models import Sequential\n",
    "from tensorflow.keras.layers import Dense, Activation\n",
    "from tensorflow.keras.initializers import Constant\n",
    "import numpy as np\n",
    "from tensorflow.keras import constraints\n",
    "from tensorflow.keras import regularizers"
   ]
  },
  {
   "cell_type": "code",
   "execution_count": 7,
   "id": "90e018f6-5a42-4545-8339-adce733171d1",
   "metadata": {},
   "outputs": [],
   "source": [
    "initializers = ['zeros', 'ones', Constant(value=5), 'RandomNormal', 'RandomUniform', 'TruncatedNormal',\n",
    "               'VarianceScaling', 'Orthogonal', 'lecun_normal', 'lecun_uniform', 'glorot_normal',\n",
    "                'glorot_uniform', 'he_normal', 'he_uniform'\n",
    "               ]"
   ]
  },
  {
   "cell_type": "code",
   "execution_count": 8,
   "id": "30e65753-2139-477a-8336-504e5fb0accf",
   "metadata": {},
   "outputs": [
    {
     "name": "stdout",
     "output_type": "stream",
     "text": [
      "Initializers =  zeros\n",
      "[array([[0., 0., 0., 0., 0.],\n",
      "       [0., 0., 0., 0., 0.]], dtype=float32), array([0., 0., 0., 0., 0.], dtype=float32)]\n",
      "============================================\n",
      "Initializers =  ones\n",
      "[array([[1., 1., 1., 1., 1.],\n",
      "       [1., 1., 1., 1., 1.]], dtype=float32), array([0., 0., 0., 0., 0.], dtype=float32)]\n",
      "============================================\n",
      "Initializers =  <keras.initializers.initializers_v2.Constant object at 0x00000228AECDBD30>\n",
      "[array([[5., 5., 5., 5., 5.],\n",
      "       [5., 5., 5., 5., 5.]], dtype=float32), array([0., 0., 0., 0., 0.], dtype=float32)]\n",
      "============================================\n",
      "Initializers =  RandomNormal\n",
      "[array([[-0.04082171,  0.04694178, -0.04795631,  0.01113334,  0.03315035],\n",
      "       [ 0.11279513, -0.02628702, -0.0063495 , -0.04123235,  0.06273712]],\n",
      "      dtype=float32), array([0., 0., 0., 0., 0.], dtype=float32)]\n",
      "============================================\n",
      "Initializers =  RandomUniform\n",
      "[array([[-0.02813811,  0.04620469,  0.04491628, -0.02807781,  0.00469957],\n",
      "       [-0.01003258,  0.02905541,  0.0113845 ,  0.02469655,  0.01533184]],\n",
      "      dtype=float32), array([0., 0., 0., 0., 0.], dtype=float32)]\n",
      "============================================\n",
      "Initializers =  TruncatedNormal\n",
      "[array([[ 0.07166795, -0.03401486,  0.05645249,  0.065211  ,  0.07244605],\n",
      "       [-0.08635473,  0.03307543, -0.03437195,  0.09782061, -0.09992106]],\n",
      "      dtype=float32), array([0., 0., 0., 0., 0.], dtype=float32)]\n",
      "============================================\n",
      "Initializers =  VarianceScaling\n",
      "[array([[-7.7671343e-01,  4.4990695e-01,  9.0119064e-01, -2.9502115e-01,\n",
      "         3.4855318e-04],\n",
      "       [ 6.5001369e-02,  4.3007115e-01, -6.0221291e-01,  5.0733918e-01,\n",
      "         2.1398181e-01]], dtype=float32), array([0., 0., 0., 0., 0.], dtype=float32)]\n",
      "============================================\n",
      "Initializers =  Orthogonal\n",
      "[array([[ 0.21747184, -0.84497386,  0.06015953,  0.20850626,  0.4377568 ],\n",
      "       [-0.7627384 , -0.37241137,  0.32861322,  0.05375376, -0.41068676]],\n",
      "      dtype=float32), array([0., 0., 0., 0., 0.], dtype=float32)]\n",
      "============================================\n",
      "Initializers =  lecun_normal\n",
      "[array([[ 0.06865824, -0.50491333, -0.44284308,  0.74844176, -1.0977715 ],\n",
      "       [ 0.76868093, -0.15729173, -0.70652694, -0.31600168,  1.2923418 ]],\n",
      "      dtype=float32), array([0., 0., 0., 0., 0.], dtype=float32)]\n",
      "============================================\n",
      "Initializers =  lecun_uniform\n",
      "[array([[-1.1753674 , -0.08610761,  0.7633903 ,  0.01354945,  1.0398601 ],\n",
      "       [-0.51598203, -0.9698807 ,  0.65820277, -1.2117993 , -0.3365016 ]],\n",
      "      dtype=float32), array([0., 0., 0., 0., 0.], dtype=float32)]\n",
      "============================================\n",
      "Initializers =  glorot_normal\n",
      "[array([[ 0.22914012,  1.0715584 , -0.7367858 , -0.04544236,  0.09424715],\n",
      "       [-0.8017712 , -0.19350716,  0.94130325, -0.6054558 , -0.7855984 ]],\n",
      "      dtype=float32), array([0., 0., 0., 0., 0.], dtype=float32)]\n",
      "============================================\n",
      "Initializers =  glorot_uniform\n",
      "[array([[ 0.30773056, -0.1792162 ,  0.49821806, -0.76389235, -0.76474065],\n",
      "       [ 0.47465324,  0.41603553,  0.32347715, -0.08927953, -0.08988565]],\n",
      "      dtype=float32), array([0., 0., 0., 0., 0.], dtype=float32)]\n",
      "============================================\n",
      "Initializers =  he_normal\n",
      "[array([[-1.4543005 , -0.69317293, -1.8101546 , -0.14432035,  0.08848181],\n",
      "       [-1.1330304 ,  1.0771396 , -0.45479944,  0.8365107 ,  0.0332451 ]],\n",
      "      dtype=float32), array([0., 0., 0., 0., 0.], dtype=float32)]\n",
      "============================================\n",
      "Initializers =  he_uniform\n",
      "[array([[ 1.2813805 , -0.32606483,  0.81091607, -1.4082923 , -1.4590814 ],\n",
      "       [-1.7173785 ,  0.7715038 , -0.49335253,  0.4823016 ,  1.3640572 ]],\n",
      "      dtype=float32), array([0., 0., 0., 0., 0.], dtype=float32)]\n",
      "============================================\n"
     ]
    }
   ],
   "source": [
    "np.random.seed(1)\n",
    "\n",
    "for init in initializers:\n",
    "    print('Initializers = ', init)\n",
    "    model = Sequential([Dense(5, input_dim=2, kernel_initializer=init)])\n",
    "\n",
    "    for layer in model.layers:\n",
    "        weights = layer.get_weights()\n",
    "        print(weights)\n",
    "    print('============================================')"
   ]
  },
  {
   "cell_type": "markdown",
   "id": "2eff6e96-a2d8-4e37-a4da-4860f602a9fe",
   "metadata": {},
   "source": [
    "# Regularizers"
   ]
  },
  {
   "cell_type": "code",
   "execution_count": 12,
   "id": "184bd93c-8c39-4610-b02c-5aad5a7e853d",
   "metadata": {},
   "outputs": [
    {
     "data": {
      "text/plain": [
       "{'name': 'sequential_21',\n",
       " 'layers': [{'class_name': 'InputLayer',\n",
       "   'config': {'batch_input_shape': (None, 784),\n",
       "    'dtype': 'float32',\n",
       "    'sparse': False,\n",
       "    'ragged': False,\n",
       "    'name': 'dense_22_input'}},\n",
       "  {'class_name': 'Dense',\n",
       "   'config': {'name': 'dense_22',\n",
       "    'trainable': True,\n",
       "    'batch_input_shape': (None, 784),\n",
       "    'dtype': 'float32',\n",
       "    'units': 512,\n",
       "    'activation': 'relu',\n",
       "    'use_bias': True,\n",
       "    'kernel_initializer': {'class_name': 'GlorotUniform',\n",
       "     'config': {'seed': None}},\n",
       "    'bias_initializer': {'class_name': 'Zeros', 'config': {}},\n",
       "    'kernel_regularizer': {'class_name': 'L1',\n",
       "     'config': {'l1': 0.10000000149011612}},\n",
       "    'bias_regularizer': None,\n",
       "    'activity_regularizer': None,\n",
       "    'kernel_constraint': None,\n",
       "    'bias_constraint': None}}]}"
      ]
     },
     "execution_count": 12,
     "metadata": {},
     "output_type": "execute_result"
    }
   ],
   "source": [
    "my_reg = regularizers.l1(0.1)\n",
    "\n",
    "model = Sequential()\n",
    "model.add(Dense(512, activation='relu', input_shape=(784, ), kernel_regularizer = my_reg))\n",
    "model.get_config()"
   ]
  },
  {
   "cell_type": "code",
   "execution_count": 13,
   "id": "44d33507-902f-4b0f-bc97-3a6552204bc3",
   "metadata": {},
   "outputs": [
    {
     "data": {
      "text/plain": [
       "{'name': 'sequential_22',\n",
       " 'layers': [{'class_name': 'InputLayer',\n",
       "   'config': {'batch_input_shape': (None, 784),\n",
       "    'dtype': 'float32',\n",
       "    'sparse': False,\n",
       "    'ragged': False,\n",
       "    'name': 'dense_23_input'}},\n",
       "  {'class_name': 'Dense',\n",
       "   'config': {'name': 'dense_23',\n",
       "    'trainable': True,\n",
       "    'batch_input_shape': (None, 784),\n",
       "    'dtype': 'float32',\n",
       "    'units': 512,\n",
       "    'activation': 'relu',\n",
       "    'use_bias': True,\n",
       "    'kernel_initializer': {'class_name': 'GlorotUniform',\n",
       "     'config': {'seed': None}},\n",
       "    'bias_initializer': {'class_name': 'Zeros', 'config': {}},\n",
       "    'kernel_regularizer': {'class_name': 'L2',\n",
       "     'config': {'l2': 0.10000000149011612}},\n",
       "    'bias_regularizer': None,\n",
       "    'activity_regularizer': None,\n",
       "    'kernel_constraint': None,\n",
       "    'bias_constraint': None}}]}"
      ]
     },
     "execution_count": 13,
     "metadata": {},
     "output_type": "execute_result"
    }
   ],
   "source": [
    "my_reg = regularizers.l2(0.1)\n",
    "\n",
    "model = Sequential()\n",
    "model.add(Dense(512, activation='relu', input_shape=(784, ), kernel_regularizer = my_reg))\n",
    "model.get_config()"
   ]
  },
  {
   "cell_type": "code",
   "execution_count": 14,
   "id": "46f58a9e-d317-4065-b8a7-3c3fd9299b2e",
   "metadata": {},
   "outputs": [
    {
     "data": {
      "text/plain": [
       "{'name': 'sequential_23',\n",
       " 'layers': [{'class_name': 'InputLayer',\n",
       "   'config': {'batch_input_shape': (None, 784),\n",
       "    'dtype': 'float32',\n",
       "    'sparse': False,\n",
       "    'ragged': False,\n",
       "    'name': 'dense_24_input'}},\n",
       "  {'class_name': 'Dense',\n",
       "   'config': {'name': 'dense_24',\n",
       "    'trainable': True,\n",
       "    'batch_input_shape': (None, 784),\n",
       "    'dtype': 'float32',\n",
       "    'units': 512,\n",
       "    'activation': 'relu',\n",
       "    'use_bias': True,\n",
       "    'kernel_initializer': {'class_name': 'GlorotUniform',\n",
       "     'config': {'seed': None}},\n",
       "    'bias_initializer': {'class_name': 'Zeros', 'config': {}},\n",
       "    'kernel_regularizer': {'class_name': 'L1L2',\n",
       "     'config': {'l1': 0.009999999776482582, 'l2': 0.009999999776482582}},\n",
       "    'bias_regularizer': None,\n",
       "    'activity_regularizer': None,\n",
       "    'kernel_constraint': None,\n",
       "    'bias_constraint': None}}]}"
      ]
     },
     "execution_count": 14,
     "metadata": {},
     "output_type": "execute_result"
    }
   ],
   "source": [
    "my_reg = regularizers.l1_l2(l1=0.01, l2=0.01)\n",
    "\n",
    "model = Sequential()\n",
    "model.add(Dense(512, activation='relu', input_shape=(784, ), kernel_regularizer = my_reg))\n",
    "model.get_config()"
   ]
  },
  {
   "cell_type": "markdown",
   "id": "9bc81d10-8f69-425f-b162-24d239f9c9a7",
   "metadata": {},
   "source": [
    "# Activation"
   ]
  },
  {
   "cell_type": "code",
   "execution_count": 15,
   "id": "ad4f8d6b-6a94-40eb-81a2-99c95dc96323",
   "metadata": {},
   "outputs": [
    {
     "data": {
      "text/plain": [
       "{'name': 'sequential_24',\n",
       " 'layers': [{'class_name': 'InputLayer',\n",
       "   'config': {'batch_input_shape': (None, 784),\n",
       "    'dtype': 'float32',\n",
       "    'sparse': False,\n",
       "    'ragged': False,\n",
       "    'name': 'dense_25_input'}},\n",
       "  {'class_name': 'Dense',\n",
       "   'config': {'name': 'dense_25',\n",
       "    'trainable': True,\n",
       "    'batch_input_shape': (None, 784),\n",
       "    'dtype': 'float32',\n",
       "    'units': 512,\n",
       "    'activation': 'linear',\n",
       "    'use_bias': True,\n",
       "    'kernel_initializer': {'class_name': 'GlorotUniform',\n",
       "     'config': {'seed': None}},\n",
       "    'bias_initializer': {'class_name': 'Zeros', 'config': {}},\n",
       "    'kernel_regularizer': None,\n",
       "    'bias_regularizer': None,\n",
       "    'activity_regularizer': None,\n",
       "    'kernel_constraint': None,\n",
       "    'bias_constraint': None}}]}"
      ]
     },
     "execution_count": 15,
     "metadata": {},
     "output_type": "execute_result"
    }
   ],
   "source": [
    "model = Sequential()\n",
    "model.add(Dense(512, activation='linear', input_shape=(784, )))\n",
    "model.get_config()"
   ]
  },
  {
   "cell_type": "code",
   "execution_count": 16,
   "id": "03ad729e-68c2-430d-a799-17be4a0a24c2",
   "metadata": {},
   "outputs": [
    {
     "data": {
      "text/plain": [
       "{'name': 'sequential_25',\n",
       " 'layers': [{'class_name': 'InputLayer',\n",
       "   'config': {'batch_input_shape': (None, 784),\n",
       "    'dtype': 'float32',\n",
       "    'sparse': False,\n",
       "    'ragged': False,\n",
       "    'name': 'dense_26_input'}},\n",
       "  {'class_name': 'Dense',\n",
       "   'config': {'name': 'dense_26',\n",
       "    'trainable': True,\n",
       "    'batch_input_shape': (None, 784),\n",
       "    'dtype': 'float32',\n",
       "    'units': 512,\n",
       "    'activation': 'relu',\n",
       "    'use_bias': True,\n",
       "    'kernel_initializer': {'class_name': 'GlorotUniform',\n",
       "     'config': {'seed': None}},\n",
       "    'bias_initializer': {'class_name': 'Zeros', 'config': {}},\n",
       "    'kernel_regularizer': None,\n",
       "    'bias_regularizer': None,\n",
       "    'activity_regularizer': None,\n",
       "    'kernel_constraint': None,\n",
       "    'bias_constraint': None}}]}"
      ]
     },
     "execution_count": 16,
     "metadata": {},
     "output_type": "execute_result"
    }
   ],
   "source": [
    "model = Sequential()\n",
    "model.add(Dense(512, activation='relu', input_shape=(784, )))\n",
    "model.get_config()"
   ]
  },
  {
   "cell_type": "code",
   "execution_count": 17,
   "id": "fb97b487-bfee-466c-b55b-b39e40eaeafe",
   "metadata": {},
   "outputs": [
    {
     "data": {
      "text/plain": [
       "{'name': 'sequential_26',\n",
       " 'layers': [{'class_name': 'InputLayer',\n",
       "   'config': {'batch_input_shape': (None, 784),\n",
       "    'dtype': 'float32',\n",
       "    'sparse': False,\n",
       "    'ragged': False,\n",
       "    'name': 'dense_27_input'}},\n",
       "  {'class_name': 'Dense',\n",
       "   'config': {'name': 'dense_27',\n",
       "    'trainable': True,\n",
       "    'batch_input_shape': (None, 784),\n",
       "    'dtype': 'float32',\n",
       "    'units': 512,\n",
       "    'activation': 'sigmoid',\n",
       "    'use_bias': True,\n",
       "    'kernel_initializer': {'class_name': 'GlorotUniform',\n",
       "     'config': {'seed': None}},\n",
       "    'bias_initializer': {'class_name': 'Zeros', 'config': {}},\n",
       "    'kernel_regularizer': None,\n",
       "    'bias_regularizer': None,\n",
       "    'activity_regularizer': None,\n",
       "    'kernel_constraint': None,\n",
       "    'bias_constraint': None}}]}"
      ]
     },
     "execution_count": 17,
     "metadata": {},
     "output_type": "execute_result"
    }
   ],
   "source": [
    "model = Sequential()\n",
    "model.add(Dense(512, activation='sigmoid', input_shape=(784, )))\n",
    "model.get_config()"
   ]
  },
  {
   "cell_type": "code",
   "execution_count": 18,
   "id": "96006ac9-cdab-4c88-84ac-4b176ae5577c",
   "metadata": {},
   "outputs": [
    {
     "data": {
      "text/plain": [
       "{'name': 'sequential_27',\n",
       " 'layers': [{'class_name': 'InputLayer',\n",
       "   'config': {'batch_input_shape': (None, 784),\n",
       "    'dtype': 'float32',\n",
       "    'sparse': False,\n",
       "    'ragged': False,\n",
       "    'name': 'dense_28_input'}},\n",
       "  {'class_name': 'Dense',\n",
       "   'config': {'name': 'dense_28',\n",
       "    'trainable': True,\n",
       "    'batch_input_shape': (None, 784),\n",
       "    'dtype': 'float32',\n",
       "    'units': 512,\n",
       "    'activation': 'elu',\n",
       "    'use_bias': True,\n",
       "    'kernel_initializer': {'class_name': 'GlorotUniform',\n",
       "     'config': {'seed': None}},\n",
       "    'bias_initializer': {'class_name': 'Zeros', 'config': {}},\n",
       "    'kernel_regularizer': None,\n",
       "    'bias_regularizer': None,\n",
       "    'activity_regularizer': None,\n",
       "    'kernel_constraint': None,\n",
       "    'bias_constraint': None}}]}"
      ]
     },
     "execution_count": 18,
     "metadata": {},
     "output_type": "execute_result"
    }
   ],
   "source": [
    "model = Sequential()\n",
    "model.add(Dense(512, activation='elu', input_shape=(784, )))\n",
    "model.get_config()"
   ]
  },
  {
   "cell_type": "markdown",
   "id": "59347d0e-12a6-4c50-b52c-624665aaee4d",
   "metadata": {},
   "source": [
    "# constraints"
   ]
  },
  {
   "cell_type": "code",
   "execution_count": 20,
   "id": "2cbf05d6-54f8-497d-aa41-5aaa0d0e40d3",
   "metadata": {},
   "outputs": [
    {
     "data": {
      "text/plain": [
       "{'name': 'sequential_28',\n",
       " 'layers': [{'class_name': 'InputLayer',\n",
       "   'config': {'batch_input_shape': (None, 784),\n",
       "    'dtype': 'float32',\n",
       "    'sparse': False,\n",
       "    'ragged': False,\n",
       "    'name': 'dense_29_input'}},\n",
       "  {'class_name': 'Dense',\n",
       "   'config': {'name': 'dense_29',\n",
       "    'trainable': True,\n",
       "    'batch_input_shape': (None, 784),\n",
       "    'dtype': 'float32',\n",
       "    'units': 512,\n",
       "    'activation': 'relu',\n",
       "    'use_bias': True,\n",
       "    'kernel_initializer': {'class_name': 'GlorotUniform',\n",
       "     'config': {'seed': None}},\n",
       "    'bias_initializer': {'class_name': 'Zeros', 'config': {}},\n",
       "    'kernel_regularizer': None,\n",
       "    'bias_regularizer': None,\n",
       "    'activity_regularizer': None,\n",
       "    'kernel_constraint': {'class_name': 'MaxNorm',\n",
       "     'config': {'max_value': 2, 'axis': 0}},\n",
       "    'bias_constraint': None}}]}"
      ]
     },
     "execution_count": 20,
     "metadata": {},
     "output_type": "execute_result"
    }
   ],
   "source": [
    "my_constrain = constraints.MaxNorm(max_value=2, axis=0)\n",
    "model = Sequential()\n",
    "model.add(Dense(512, activation='relu', input_shape=(784, ), kernel_constraint=my_constrain))\n",
    "model.get_config()"
   ]
  },
  {
   "cell_type": "code",
   "execution_count": 22,
   "id": "71f10cce-d494-4635-971f-161d8c10363e",
   "metadata": {},
   "outputs": [
    {
     "data": {
      "text/plain": [
       "{'name': 'sequential_29',\n",
       " 'layers': [{'class_name': 'InputLayer',\n",
       "   'config': {'batch_input_shape': (None, 784),\n",
       "    'dtype': 'float32',\n",
       "    'sparse': False,\n",
       "    'ragged': False,\n",
       "    'name': 'dense_30_input'}},\n",
       "  {'class_name': 'Dense',\n",
       "   'config': {'name': 'dense_30',\n",
       "    'trainable': True,\n",
       "    'batch_input_shape': (None, 784),\n",
       "    'dtype': 'float32',\n",
       "    'units': 512,\n",
       "    'activation': 'relu',\n",
       "    'use_bias': True,\n",
       "    'kernel_initializer': {'class_name': 'GlorotUniform',\n",
       "     'config': {'seed': None}},\n",
       "    'bias_initializer': {'class_name': 'Zeros', 'config': {}},\n",
       "    'kernel_regularizer': None,\n",
       "    'bias_regularizer': None,\n",
       "    'activity_regularizer': None,\n",
       "    'kernel_constraint': {'class_name': 'UnitNorm', 'config': {'axis': 0}},\n",
       "    'bias_constraint': None}}]}"
      ]
     },
     "execution_count": 22,
     "metadata": {},
     "output_type": "execute_result"
    }
   ],
   "source": [
    "my_constrain = constraints.UnitNorm(axis=0)\n",
    "model = Sequential()\n",
    "model.add(Dense(512, activation='relu', input_shape=(784, ), kernel_constraint=my_constrain))\n",
    "model.get_config()"
   ]
  },
  {
   "cell_type": "code",
   "execution_count": 24,
   "id": "c0974671-4294-4a84-8291-6fa92e87aa0d",
   "metadata": {},
   "outputs": [
    {
     "data": {
      "text/plain": [
       "{'name': 'sequential_30',\n",
       " 'layers': [{'class_name': 'InputLayer',\n",
       "   'config': {'batch_input_shape': (None, 784),\n",
       "    'dtype': 'float32',\n",
       "    'sparse': False,\n",
       "    'ragged': False,\n",
       "    'name': 'dense_31_input'}},\n",
       "  {'class_name': 'Dense',\n",
       "   'config': {'name': 'dense_31',\n",
       "    'trainable': True,\n",
       "    'batch_input_shape': (None, 784),\n",
       "    'dtype': 'float32',\n",
       "    'units': 512,\n",
       "    'activation': 'relu',\n",
       "    'use_bias': True,\n",
       "    'kernel_initializer': {'class_name': 'GlorotUniform',\n",
       "     'config': {'seed': None}},\n",
       "    'bias_initializer': {'class_name': 'Zeros', 'config': {}},\n",
       "    'kernel_regularizer': None,\n",
       "    'bias_regularizer': None,\n",
       "    'activity_regularizer': None,\n",
       "    'kernel_constraint': {'class_name': 'MinMaxNorm',\n",
       "     'config': {'min_value': 0.0, 'max_value': 1.0, 'rate': 1.0, 'axis': 0}},\n",
       "    'bias_constraint': None}}]}"
      ]
     },
     "execution_count": 24,
     "metadata": {},
     "output_type": "execute_result"
    }
   ],
   "source": [
    "my_constrain = constraints.MinMaxNorm(min_value=0.0, max_value=1.0, rate=1.0, axis=0)\n",
    "model = Sequential()\n",
    "model.add(Dense(512, activation='relu', input_shape=(784, ), kernel_constraint=my_constrain))\n",
    "model.get_config()"
   ]
  },
  {
   "cell_type": "code",
   "execution_count": null,
   "id": "4bd3d8da-300b-4c8b-af13-cfd6f0049b72",
   "metadata": {},
   "outputs": [],
   "source": [
    "my_constrain = constraints.NonNeg()\n",
    "model = Sequential()\n",
    "model.add(Dense(512, activation='relu', input_shape=(784, ), kernel_constraint=my_constrain))\n",
    "model.get_config()"
   ]
  },
  {
   "cell_type": "code",
   "execution_count": null,
   "id": "09d73118",
   "metadata": {},
   "outputs": [],
   "source": []
  }
 ],
 "metadata": {
  "kernelspec": {
   "display_name": "Python 3 (ipykernel)",
   "language": "python",
   "name": "python3"
  },
  "language_info": {
   "codemirror_mode": {
    "name": "ipython",
    "version": 3
   },
   "file_extension": ".py",
   "mimetype": "text/x-python",
   "name": "python",
   "nbconvert_exporter": "python",
   "pygments_lexer": "ipython3",
   "version": "3.10.13"
  }
 },
 "nbformat": 4,
 "nbformat_minor": 5
}
