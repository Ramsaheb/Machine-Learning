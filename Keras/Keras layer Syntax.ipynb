{
 "cells": [
  {
   "cell_type": "code",
   "execution_count": 1,
   "id": "57ca249f-2dc9-40df-9c94-64688a88ac85",
   "metadata": {},
   "outputs": [],
   "source": [
    "from tensorflow.keras.models import Sequential\n",
    "from tensorflow.keras.layers import Dense\n",
    "from tensorflow.keras.utils import plot_model"
   ]
  },
  {
   "cell_type": "code",
   "execution_count": 2,
   "id": "a2ee0073-d99a-4ce6-b707-bb8129a5b4db",
   "metadata": {},
   "outputs": [
    {
     "name": "stdout",
     "output_type": "stream",
     "text": [
      "Model: \"sequential\"\n",
      "_________________________________________________________________\n",
      " Layer (type)                Output Shape              Param #   \n",
      "=================================================================\n",
      " dense (Dense)               (None, 16)                144       \n",
      "                                                                 \n",
      "=================================================================\n",
      "Total params: 144\n",
      "Trainable params: 144\n",
      "Non-trainable params: 0\n",
      "_________________________________________________________________\n"
     ]
    },
    {
     "data": {
      "image/png": "[encoded data removed]",
      "text/plain": [
       "<IPython.core.display.Image object>"
      ]
     },
     "execution_count": 2,
     "metadata": {},
     "output_type": "execute_result"
    }
   ],
   "source": [
    "model = Sequential()\n",
    "model.add(Dense(16, input_shape=(8, )))\n",
    "model.summary()\n",
    "plot_model(model, to_file='model_plot.png', show_shapes=True, show_layer_names=True)"
   ]
  },
  {
   "cell_type": "code",
   "execution_count": 3,
   "id": "4db06383-6a1d-4f0e-b8d1-a95db29f5a41",
   "metadata": {},
   "outputs": [
    {
     "data": {
      "text/plain": [
       "{'name': 'sequential',\n",
       " 'layers': [{'class_name': 'InputLayer',\n",
       "   'config': {'batch_input_shape': (None, 8),\n",
       "    'dtype': 'float32',\n",
       "    'sparse': False,\n",
       "    'ragged': False,\n",
       "    'name': 'dense_input'}},\n",
       "  {'class_name': 'Dense',\n",
       "   'config': {'name': 'dense',\n",
       "    'trainable': True,\n",
       "    'batch_input_shape': (None, 8),\n",
       "    'dtype': 'float32',\n",
       "    'units': 16,\n",
       "    'activation': 'linear',\n",
       "    'use_bias': True,\n",
       "    'kernel_initializer': {'class_name': 'GlorotUniform',\n",
       "     'config': {'seed': None}},\n",
       "    'bias_initializer': {'class_name': 'Zeros', 'config': {}},\n",
       "    'kernel_regularizer': None,\n",
       "    'bias_regularizer': None,\n",
       "    'activity_regularizer': None,\n",
       "    'kernel_constraint': None,\n",
       "    'bias_constraint': None}}]}"
      ]
     },
     "execution_count": 3,
     "metadata": {},
     "output_type": "execute_result"
    }
   ],
   "source": [
    "model.get_config()"
   ]
  },
  {
   "cell_type": "code",
   "execution_count": 4,
   "id": "bee54446-b5e9-4dd4-bef0-156a6eb1bd3d",
   "metadata": {},
   "outputs": [
    {
     "data": {
      "text/plain": [
       "[array([[ 0.21040344, -0.07737565, -0.17349732,  0.215428  ,  0.30744588,\n",
       "         -0.12616682,  0.42297435,  0.28384793,  0.15413451, -0.27113116,\n",
       "         -0.1538825 ,  0.41998148, -0.02103972,  0.2641399 ,  0.46962392,\n",
       "          0.07110023],\n",
       "        [ 0.00904155, -0.31038284,  0.48134005, -0.48477376,  0.03072035,\n",
       "          0.4897815 ,  0.1067363 , -0.16366446, -0.36851478,  0.26047027,\n",
       "         -0.24708521, -0.33384442,  0.3551761 , -0.36305928, -0.18353868,\n",
       "         -0.10990202],\n",
       "        [-0.02475655, -0.10509408,  0.16547298,  0.13004804,  0.05914223,\n",
       "          0.3969655 , -0.04043901,  0.11528981,  0.35875356,  0.41604018,\n",
       "         -0.36121488, -0.00209618, -0.27708268,  0.13459015, -0.09732163,\n",
       "          0.19740129],\n",
       "        [-0.03394139, -0.45107436, -0.01168394,  0.32260883,  0.33967257,\n",
       "          0.31223774, -0.35732293, -0.3738202 , -0.3025272 , -0.07248497,\n",
       "          0.08998978,  0.34853685, -0.29984248,  0.05525541, -0.0784142 ,\n",
       "          0.15119827],\n",
       "        [ 0.47684276,  0.25424504,  0.11636388,  0.19367182, -0.39594638,\n",
       "          0.24156928, -0.10151255, -0.09962308,  0.25311804,  0.23878539,\n",
       "          0.15762186,  0.20202374,  0.18851423, -0.4920392 , -0.36375725,\n",
       "         -0.38956428],\n",
       "        [ 0.11266363,  0.04405522, -0.23533261, -0.22107625,  0.47984827,\n",
       "          0.42063904,  0.3058424 ,  0.40535307, -0.49220765,  0.22501516,\n",
       "          0.38436115, -0.10431719, -0.18396997, -0.00301135, -0.1756103 ,\n",
       "          0.34431016],\n",
       "        [ 0.28728092, -0.24287462, -0.2707318 ,  0.04026186, -0.14492333,\n",
       "          0.46040702,  0.1901344 ,  0.18577409, -0.43205583, -0.40235746,\n",
       "          0.19495058, -0.20255959, -0.38753653,  0.3460096 , -0.45928407,\n",
       "          0.45273674],\n",
       "        [-0.36208344,  0.48717475, -0.44031096, -0.27166712,  0.29180944,\n",
       "          0.42537117,  0.20859468, -0.1765182 , -0.02801168, -0.24707973,\n",
       "         -0.2437787 , -0.4031086 , -0.12021744,  0.30998564, -0.34091115,\n",
       "         -0.4320377 ]], dtype=float32),\n",
       " array([0., 0., 0., 0., 0., 0., 0., 0., 0., 0., 0., 0., 0., 0., 0., 0.],\n",
       "       dtype=float32)]"
      ]
     },
     "execution_count": 4,
     "metadata": {},
     "output_type": "execute_result"
    }
   ],
   "source": [
    "model.get_weights()"
   ]
  },
  {
   "cell_type": "code",
   "execution_count": 5,
   "id": "e4207591-44bd-4505-abe9-af2f3acdc0fc",
   "metadata": {},
   "outputs": [
    {
     "name": "stdout",
     "output_type": "stream",
     "text": [
      "Model: \"sequential_1\"\n",
      "_________________________________________________________________\n",
      " Layer (type)                Output Shape              Param #   \n",
      "=================================================================\n",
      " dense_1 (Dense)             (None, 16)                144       \n",
      "                                                                 \n",
      " dropout (Dropout)           (None, 16)                0         \n",
      "                                                                 \n",
      " dense_2 (Dense)             (None, 10)                170       \n",
      "                                                                 \n",
      "=================================================================\n",
      "Total params: 314\n",
      "Trainable params: 314\n",
      "Non-trainable params: 0\n",
      "_________________________________________________________________\n"
     ]
    }
   ],
   "source": [
    "from tensorflow.keras.layers import Dense, Dropout\n",
    "\n",
    "model = Sequential()\n",
    "model.add(Dense(16, input_shape=(8, )))\n",
    "model.add(Dropout(.2))\n",
    "model.add(Dense(10))\n",
    "model.summary()"
   ]
  },
  {
   "cell_type": "code",
   "execution_count": 6,
   "id": "3bf67770-9a4e-4c51-b29d-6f391ae80978",
   "metadata": {},
   "outputs": [
    {
     "name": "stdout",
     "output_type": "stream",
     "text": [
      "Model: \"sequential_2\"\n",
      "_________________________________________________________________\n",
      " Layer (type)                Output Shape              Param #   \n",
      "=================================================================\n",
      " dense_3 (Dense)             (None, 8, 16)             48        \n",
      "                                                                 \n",
      " flatten (Flatten)           (None, 128)               0         \n",
      "                                                                 \n",
      " dense_4 (Dense)             (None, 10)                1290      \n",
      "                                                                 \n",
      "=================================================================\n",
      "Total params: 1,338\n",
      "Trainable params: 1,338\n",
      "Non-trainable params: 0\n",
      "_________________________________________________________________\n"
     ]
    },
    {
     "data": {
      "image/png": "[encoded data removed]",
      "text/plain": [
       "<IPython.core.display.Image object>"
      ]
     },
     "execution_count": 6,
     "metadata": {},
     "output_type": "execute_result"
    }
   ],
   "source": [
    "from tensorflow.keras.layers import Dense, Flatten\n",
    "\n",
    "model = Sequential()\n",
    "model.add(Dense(16, input_shape=(8, 2)))\n",
    "model.add(Flatten())\n",
    "model.add(Dense(10))\n",
    "model.summary()\n",
    "plot_model(model, to_file='model_plot.png', show_shapes=True, show_layer_names=True)"
   ]
  },
  {
   "cell_type": "code",
   "execution_count": 9,
   "id": "534bb41c-76b7-4a87-9990-67a9cfcdca0d",
   "metadata": {},
   "outputs": [
    {
     "name": "stdout",
     "output_type": "stream",
     "text": [
      "Model: \"sequential_5\"\n",
      "_________________________________________________________________\n",
      " Layer (type)                Output Shape              Param #   \n",
      "=================================================================\n",
      " dense_7 (Dense)             (None, 8, 16)             48        \n",
      "                                                                 \n",
      " permute (Permute)           (None, 16, 8)             0         \n",
      "                                                                 \n",
      "=================================================================\n",
      "Total params: 48\n",
      "Trainable params: 48\n",
      "Non-trainable params: 0\n",
      "_________________________________________________________________\n"
     ]
    }
   ],
   "source": [
    "from tensorflow.keras.layers import Dense, Permute\n",
    "\n",
    "model = Sequential()\n",
    "model.add(Dense(16, input_shape=(8, 2)))\n",
    "model.add(Permute((2, 1)))\n",
    "model.summary()"
   ]
  },
  {
   "cell_type": "code",
   "execution_count": 10,
   "id": "7c7b3afa-bd09-464c-884a-944279de2f16",
   "metadata": {},
   "outputs": [
    {
     "data": {
      "image/png": "[encoded data removed]",
      "text/plain": [
       "<IPython.core.display.Image object>"
      ]
     },
     "execution_count": 10,
     "metadata": {},
     "output_type": "execute_result"
    }
   ],
   "source": [
    "from tensorflow.keras.layers import Dense, Activation, Conv2D, MaxPooling2D, Flatten\n",
    "\n",
    "model = Sequential()\n",
    "model.add(Conv2D(32, kernel_size=(5, 5), strides=(1, 1), input_shape=(28, 28, 1)))\n",
    "model.add(MaxPooling2D(pool_size=(2, 2), strides=(2, 2)))\n",
    "model.add(Flatten())\n",
    "model.add(Dense(1000, activation='relu'))\n",
    "plot_model(model, to_file='model_plot.png', show_shapes=True, show_layer_names=True)"
   ]
  },
  {
   "cell_type": "code",
   "execution_count": null,
   "id": "a8c17c71-28f0-4241-8268-13a0c0d248a5",
   "metadata": {},
   "outputs": [],
   "source": []
  }
 ],
 "metadata": {
  "kernelspec": {
   "display_name": "Python 3 (ipykernel)",
   "language": "python",
   "name": "python3"
  },
  "language_info": {
   "codemirror_mode": {
    "name": "ipython",
    "version": 3
   },
   "file_extension": ".py",
   "mimetype": "text/x-python",
   "name": "python",
   "nbconvert_exporter": "python",
   "pygments_lexer": "ipython3",
   "version": "3.10.13"
  }
 },
 "nbformat": 4,
 "nbformat_minor": 5
}
