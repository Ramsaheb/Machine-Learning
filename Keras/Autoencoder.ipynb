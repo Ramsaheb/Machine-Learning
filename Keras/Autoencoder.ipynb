{
 "cells": [
  {
   "cell_type": "code",
   "execution_count": 7,
   "id": "ae2941fa-a21e-4f8e-924e-d5b6ebe4097c",
   "metadata": {},
   "outputs": [],
   "source": [
    "from tensorflow.keras.datasets import mnist\n",
    "from tensorflow.keras.layers import Dense, Conv2D, MaxPooling2D, Input, UpSampling2D\n",
    "from tensorflow.keras import backend as k\n",
    "import numpy as np\n",
    "import matplotlib.pyplot as plt\n",
    "from keras.models import Model\n"
   ]
  },
  {
   "cell_type": "code",
   "execution_count": 8,
   "id": "383e8bc6-2437-4a17-8b0a-ebb80941ddd5",
   "metadata": {},
   "outputs": [
    {
     "name": "stdout",
     "output_type": "stream",
     "text": [
      "(60000, 28, 28, 1) (10000, 28, 28, 1)\n"
     ]
    }
   ],
   "source": [
    "(x_train, _), (x_test, _) = mnist.load_data()\n",
    "\n",
    "x_train = x_train.astype('float32') / 255\n",
    "x_test = x_test.astype('float32') / 255\n",
    "\n",
    "x_train = np.reshape(x_train, (len(x_train), 28, 28, 1))\n",
    "x_test = np.reshape(x_test, (len(x_test), 28, 28, 1))\n",
    "\n",
    "print(x_train.shape, x_test.shape)"
   ]
  },
  {
   "cell_type": "code",
   "execution_count": 9,
   "id": "2e476f42-8ab3-478b-a354-027d95cb4127",
   "metadata": {},
   "outputs": [],
   "source": [
    "input_img = Input(shape=(28, 28, 1))\n",
    "\n",
    "#encoding\n",
    "x = Conv2D(16, (3, 3), activation='relu', padding='same')(input_img)\n",
    "x = MaxPooling2D((2, 2), padding='same')(x)\n",
    "x = Conv2D(8, (3, 3), activation='relu', padding='same')(x)\n",
    "x = MaxPooling2D((2, 2), padding='same')(x)\n",
    "x = Conv2D(8, (3, 3), activation='relu', padding='same')(x)\n",
    "encoded = MaxPooling2D((2, 2), padding='same')(x)\n",
    "\n",
    "#decoding\n",
    "x = Conv2D(8, (3, 3), activation='relu', padding='same')(encoded)\n",
    "x = UpSampling2D((2, 2))(x)\n",
    "x = Conv2D(8, (3, 3), activation='relu', padding='same')(x)\n",
    "x = UpSampling2D((2, 2))(x)\n",
    "x = Conv2D(16, (3, 3), activation='relu')(x)\n",
    "x = UpSampling2D((2, 2))(x)\n",
    "decoded = Conv2D(1, (3, 3), activation='sigmoid', padding='same')(x)\n",
    "\n",
    "autoencoder = Model(input_img, decoded)\n",
    "autoencoder.compile(optimizer='adam', loss='binary_crossentropy', metrics=['accuracy'])"
   ]
  },
  {
   "cell_type": "code",
   "execution_count": null,
   "id": "f9c38256-c143-4e20-9e91-f9f84d07bdcc",
   "metadata": {},
   "outputs": [
    {
     "name": "stdout",
     "output_type": "stream",
     "text": [
      "Epoch 1/100\n",
      "938/938 [==============================] - 43s 44ms/step - loss: 0.1720 - accuracy: 0.7990 - val_loss: 0.1265 - val_accuracy: 0.8060\n",
      "Epoch 2/100\n",
      "938/938 [==============================] - 33s 35ms/step - loss: 0.1212 - accuracy: 0.8083 - val_loss: 0.1150 - val_accuracy: 0.8091\n",
      "Epoch 3/100\n",
      "938/938 [==============================] - 33s 35ms/step - loss: 0.1128 - accuracy: 0.8100 - val_loss: 0.1090 - val_accuracy: 0.8092\n",
      "Epoch 4/100\n",
      "938/938 [==============================] - 33s 35ms/step - loss: 0.1081 - accuracy: 0.8109 - val_loss: 0.1053 - val_accuracy: 0.8106\n",
      "Epoch 5/100\n",
      "938/938 [==============================] - 32s 34ms/step - loss: 0.1049 - accuracy: 0.8114 - val_loss: 0.1022 - val_accuracy: 0.8111\n",
      "Epoch 6/100\n",
      "938/938 [==============================] - 33s 35ms/step - loss: 0.1024 - accuracy: 0.8118 - val_loss: 0.1002 - val_accuracy: 0.8109\n",
      "Epoch 7/100\n",
      "938/938 [==============================] - 32s 34ms/step - loss: 0.1006 - accuracy: 0.8121 - val_loss: 0.0987 - val_accuracy: 0.8116\n",
      "Epoch 8/100\n",
      "938/938 [==============================] - 33s 35ms/step - loss: 0.0992 - accuracy: 0.8123 - val_loss: 0.0978 - val_accuracy: 0.8116\n",
      "Epoch 9/100\n",
      "938/938 [==============================] - 32s 34ms/step - loss: 0.0981 - accuracy: 0.8125 - val_loss: 0.0966 - val_accuracy: 0.8117\n",
      "Epoch 10/100\n",
      "938/938 [==============================] - 32s 34ms/step - loss: 0.0972 - accuracy: 0.8126 - val_loss: 0.0958 - val_accuracy: 0.8115\n",
      "Epoch 11/100\n",
      "938/938 [==============================] - 32s 34ms/step - loss: 0.0964 - accuracy: 0.8127 - val_loss: 0.0953 - val_accuracy: 0.8121\n",
      "Epoch 12/100\n",
      "938/938 [==============================] - 32s 34ms/step - loss: 0.0957 - accuracy: 0.8128 - val_loss: 0.0942 - val_accuracy: 0.8117\n",
      "Epoch 13/100\n",
      "938/938 [==============================] - 32s 34ms/step - loss: 0.0951 - accuracy: 0.8129 - val_loss: 0.0938 - val_accuracy: 0.8118\n",
      "Epoch 14/100\n",
      "938/938 [==============================] - 41s 43ms/step - loss: 0.0945 - accuracy: 0.8130 - val_loss: 0.0933 - val_accuracy: 0.8119\n",
      "Epoch 15/100\n",
      "938/938 [==============================] - 33s 35ms/step - loss: 0.0940 - accuracy: 0.8131 - val_loss: 0.0926 - val_accuracy: 0.8120\n",
      "Epoch 16/100\n",
      "938/938 [==============================] - 33s 36ms/step - loss: 0.0935 - accuracy: 0.8132 - val_loss: 0.0920 - val_accuracy: 0.8124\n",
      "Epoch 17/100\n",
      "938/938 [==============================] - 34s 36ms/step - loss: 0.0931 - accuracy: 0.8132 - val_loss: 0.0920 - val_accuracy: 0.8120\n",
      "Epoch 18/100\n",
      "938/938 [==============================] - 33s 35ms/step - loss: 0.0927 - accuracy: 0.8133 - val_loss: 0.0917 - val_accuracy: 0.8125\n",
      "Epoch 19/100\n",
      "938/938 [==============================] - 33s 35ms/step - loss: 0.0924 - accuracy: 0.8133 - val_loss: 0.0910 - val_accuracy: 0.8127\n",
      "Epoch 20/100\n",
      "938/938 [==============================] - 33s 35ms/step - loss: 0.0921 - accuracy: 0.8133 - val_loss: 0.0907 - val_accuracy: 0.8123\n",
      "Epoch 21/100\n",
      "938/938 [==============================] - 34s 36ms/step - loss: 0.0918 - accuracy: 0.8134 - val_loss: 0.0913 - val_accuracy: 0.8129\n",
      "Epoch 22/100\n",
      "938/938 [==============================] - 35s 38ms/step - loss: 0.0914 - accuracy: 0.8134 - val_loss: 0.0901 - val_accuracy: 0.8124\n",
      "Epoch 23/100\n",
      "938/938 [==============================] - 36s 39ms/step - loss: 0.0912 - accuracy: 0.8135 - val_loss: 0.0897 - val_accuracy: 0.8127\n",
      "Epoch 24/100\n",
      "938/938 [==============================] - 41s 44ms/step - loss: 0.0910 - accuracy: 0.8135 - val_loss: 0.0900 - val_accuracy: 0.8127\n",
      "Epoch 25/100\n",
      "938/938 [==============================] - 38s 40ms/step - loss: 0.0908 - accuracy: 0.8135 - val_loss: 0.0896 - val_accuracy: 0.8128\n",
      "Epoch 26/100\n",
      "938/938 [==============================] - 36s 39ms/step - loss: 0.0905 - accuracy: 0.8136 - val_loss: 0.0893 - val_accuracy: 0.8128\n",
      "Epoch 27/100\n",
      "938/938 [==============================] - 36s 39ms/step - loss: 0.0905 - accuracy: 0.8136 - val_loss: 0.0890 - val_accuracy: 0.8126\n",
      "Epoch 28/100\n",
      "938/938 [==============================] - 35s 38ms/step - loss: 0.0902 - accuracy: 0.8136 - val_loss: 0.0889 - val_accuracy: 0.8128\n",
      "Epoch 29/100\n",
      "938/938 [==============================] - 38s 41ms/step - loss: 0.0901 - accuracy: 0.8136 - val_loss: 0.0888 - val_accuracy: 0.8127\n",
      "Epoch 30/100\n",
      "938/938 [==============================] - 37s 39ms/step - loss: 0.0896 - accuracy: 0.8137 - val_loss: 0.0890 - val_accuracy: 0.8131\n",
      "Epoch 33/100\n",
      "938/938 [==============================] - 32s 34ms/step - loss: 0.0893 - accuracy: 0.8137 - val_loss: 0.0880 - val_accuracy: 0.8127\n",
      "Epoch 36/100\n",
      "938/938 [==============================] - 39s 42ms/step - loss: 0.0892 - accuracy: 0.8137 - val_loss: 0.0881 - val_accuracy: 0.8130\n",
      "Epoch 37/100\n",
      "938/938 [==============================] - 36s 38ms/step - loss: 0.0891 - accuracy: 0.8137 - val_loss: 0.0879 - val_accuracy: 0.8129\n",
      "Epoch 38/100\n",
      "938/938 [==============================] - 34s 36ms/step - loss: 0.0888 - accuracy: 0.8138 - val_loss: 0.0874 - val_accuracy: 0.8129\n",
      "Epoch 41/100\n",
      "938/938 [==============================] - 33s 35ms/step - loss: 0.0888 - accuracy: 0.8138 - val_loss: 0.0880 - val_accuracy: 0.8129\n",
      "Epoch 42/100\n",
      "938/938 [==============================] - 34s 37ms/step - loss: 0.0887 - accuracy: 0.8138 - val_loss: 0.0880 - val_accuracy: 0.8132\n",
      "Epoch 43/100\n",
      "938/938 [==============================] - 42s 45ms/step - loss: 0.0886 - accuracy: 0.8138 - val_loss: 0.0875 - val_accuracy: 0.8127\n",
      "Epoch 44/100\n",
      "938/938 [==============================] - 36s 39ms/step - loss: 0.0886 - accuracy: 0.8138 - val_loss: 0.0885 - val_accuracy: 0.8132\n",
      "Epoch 45/100\n",
      "938/938 [==============================] - 39s 42ms/step - loss: 0.0885 - accuracy: 0.8138 - val_loss: 0.0872 - val_accuracy: 0.8131\n",
      "Epoch 46/100\n",
      " 49/938 [>.............................] - ETA: 34s - loss: 0.0883 - accuracy: 0.8137"
     ]
    },
    {
     "name": "stderr",
     "output_type": "stream",
     "text": [
      "IOPub message rate exceeded.\n",
      "The Jupyter server will temporarily stop sending output\n",
      "to the client in order to avoid crashing it.\n",
      "To change this limit, set the config variable\n",
      "`--ServerApp.iopub_msg_rate_limit`.\n",
      "\n",
      "Current values:\n",
      "ServerApp.iopub_msg_rate_limit=1000.0 (msgs/sec)\n",
      "ServerApp.rate_limit_window=3.0 (secs)\n",
      "\n"
     ]
    },
    {
     "name": "stdout",
     "output_type": "stream",
     "text": [
      "938/938 [==============================] - 39s 42ms/step - loss: 0.0883 - accuracy: 0.8139 - val_loss: 0.0871 - val_accuracy: 0.8128\n",
      "Epoch 49/100\n",
      "938/938 [==============================] - 33s 35ms/step - loss: 0.0883 - accuracy: 0.8139 - val_loss: 0.0873 - val_accuracy: 0.8131\n",
      "Epoch 50/100\n",
      "291/938 [========>.....................] - ETA: 21s - loss: 0.0882 - accuracy: 0.8138"
     ]
    }
   ],
   "source": [
    "autoencoder.fit(x_train, x_train, epochs=100, batch_size=64, shuffle = True, validation_data=(x_test, x_test))"
   ]
  },
  {
   "cell_type": "code",
   "execution_count": null,
   "id": "ba06c706-6557-4d5e-b213-7f2ad7756e74",
   "metadata": {},
   "outputs": [],
   "source": [
    "loss, accuracy = autoencoder.evaluate(x_test, x_test, verbose=0)\n",
    "print(f'loss: {(loss*100):.2f} || Accuracy: {(accuracy*100):.2f}')"
   ]
  },
  {
   "cell_type": "code",
   "execution_count": null,
   "id": "cca65493-4042-4716-b5d2-9872ba80e78a",
   "metadata": {},
   "outputs": [],
   "source": [
    "num_images = 10\n",
    "np.random.seed(42)\n",
    "random_test_images = np.random.randit(x_test.shape[0], size=num_images)\n",
    "\n",
    "decoded_imgs = autoencoder.predict(x_test)\n",
    "\n",
    "plt.figure(figsize=(18, 4))\n",
    "\n",
    "for i, image_idx in enumerate(random_test_images):\n",
    "    ax = plt.subplot(3, num_images, i+1)\n",
    "    plt.imshow(x_test[image_idx].reshape(28, 28))\n",
    "    plt.gray()\n",
    "    ax.get_xaxis().set_visible(False)\n",
    "    ax.get_yaxis().set_visible(False)\n",
    "\n",
    "    ax = plt.subplot(3, num_images, 2*num_images+i+1)\n",
    "    plt.imshow(decoded_imgs[image_idx].reshape(28, 28))\n",
    "    plt.gray()\n",
    "    ax.get_xaxis().set_visible(False)\n",
    "    ax.get_yaxis().set_visible(False)\n",
    "plt.show()"
   ]
  }
 ],
 "metadata": {
  "kernelspec": {
   "display_name": "Python 3 (ipykernel)",
   "language": "python",
   "name": "python3"
  },
  "language_info": {
   "codemirror_mode": {
    "name": "ipython",
    "version": 3
   },
   "file_extension": ".py",
   "mimetype": "text/x-python",
   "name": "python",
   "nbconvert_exporter": "python",
   "pygments_lexer": "ipython3",
   "version": "3.10.13"
  }
 },
 "nbformat": 4,
 "nbformat_minor": 5
}
