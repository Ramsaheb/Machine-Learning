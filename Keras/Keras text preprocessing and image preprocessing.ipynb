{
 "cells": [
  {
   "cell_type": "markdown",
   "id": "abf7e9f8-fb83-45a3-9909-e38ab106ffaa",
   "metadata": {},
   "source": [
    "# Sequence Preprocessing"
   ]
  },
  {
   "cell_type": "code",
   "execution_count": 1,
   "id": "0162638f-408c-4d2c-a7de-484847ad0966",
   "metadata": {},
   "outputs": [],
   "source": [
    "seq = [\n",
    "    [1, 2, 3, 4],\n",
    "    [2, 3, 4, 5, 4, 2, 3],\n",
    "    [4],\n",
    "    [2, 4, 5]\n",
    "]"
   ]
  },
  {
   "cell_type": "code",
   "execution_count": 3,
   "id": "b712c864-29a3-4328-a7f4-f3fe43770170",
   "metadata": {},
   "outputs": [
    {
     "data": {
      "text/plain": [
       "array([[0, 0, 0, 1, 2, 3, 4],\n",
       "       [2, 3, 4, 5, 4, 2, 3],\n",
       "       [0, 0, 0, 0, 0, 0, 4],\n",
       "       [0, 0, 0, 0, 2, 4, 5]])"
      ]
     },
     "execution_count": 3,
     "metadata": {},
     "output_type": "execute_result"
    }
   ],
   "source": [
    "from tensorflow.keras.preprocessing.sequence import pad_sequences\n",
    "\n",
    "padded = pad_sequences(seq, maxlen=None, dtype='int32', padding='pre', truncating='pre', value=0.0)\n",
    "padded"
   ]
  },
  {
   "cell_type": "code",
   "execution_count": 4,
   "id": "7e3b2f2e-0f4f-48ce-a7c2-7d4a110b50e6",
   "metadata": {},
   "outputs": [
    {
     "data": {
      "text/plain": [
       "([[1, 2],\n",
       "  [2, 1],\n",
       "  [2, 3],\n",
       "  [3, 2],\n",
       "  [3, 4],\n",
       "  [4, 3],\n",
       "  [4, 5],\n",
       "  [3, 2],\n",
       "  [3, 4],\n",
       "  [2, 1],\n",
       "  [2, 2],\n",
       "  [1, 5]],\n",
       " [1, 1, 1, 1, 1, 1, 0, 0, 0, 0, 0, 0])"
      ]
     },
     "execution_count": 4,
     "metadata": {},
     "output_type": "execute_result"
    }
   ],
   "source": [
    "from tensorflow.keras.preprocessing.sequence import skipgrams\n",
    "\n",
    "skipgrams(padded[0], vocabulary_size=6, window_size=1, negative_samples=1.0, shuffle=False,\n",
    "         categorical=False, sampling_table=None, seed=None)"
   ]
  },
  {
   "cell_type": "code",
   "execution_count": 6,
   "id": "a1cc9d16-6af3-4076-996f-d422d223075f",
   "metadata": {},
   "outputs": [
    {
     "name": "stdout",
     "output_type": "stream",
     "text": [
      "samples: 8\n",
      "[[1 2]] => [17]\n",
      "[[2 3]] => [18]\n",
      "[[3 4]] => [19]\n",
      "[[4 5]] => [20]\n",
      "[[5 6]] => [22]\n",
      "[[6 7]] => [21]\n",
      "[[7 8]] => [23]\n",
      "[[8 9]] => [14]\n"
     ]
    }
   ],
   "source": [
    "from numpy import array\n",
    "from keras.preprocessing.sequence import TimeseriesGenerator\n",
    "\n",
    "input_data = array([1, 2, 3, 4, 5, 6, 7, 8, 9, 10])\n",
    "target = array([0, 0, 17, 18, 19, 20, 22, 21, 23, 14])\n",
    "\n",
    "generator = TimeseriesGenerator(input_data, target, length=2, batch_size=1)\n",
    "\n",
    "print('samples: %d' % len(generator))\n",
    "\n",
    "for i in range(len(generator)):\n",
    "    x, y = generator[i]\n",
    "    print('%s => %s' % (x, y))"
   ]
  },
  {
   "cell_type": "markdown",
   "id": "3c1fd2dc-57be-4c54-b336-89d22f8e11d8",
   "metadata": {},
   "source": [
    "# TEXT Processing"
   ]
  },
  {
   "cell_type": "code",
   "execution_count": 7,
   "id": "4bb9630a-6c0e-4052-99f2-e0f590ea39f6",
   "metadata": {},
   "outputs": [],
   "source": [
    "text = 'Hello Ramsaheb, how are you?'"
   ]
  },
  {
   "cell_type": "code",
   "execution_count": 9,
   "id": "283dbb54-a947-47a3-a24b-c6408e6cd6d9",
   "metadata": {},
   "outputs": [
    {
     "name": "stdout",
     "output_type": "stream",
     "text": [
      "['hello', 'ramsaheb', 'how', 'are', 'you']\n",
      "5\n"
     ]
    }
   ],
   "source": [
    "from tensorflow.keras.preprocessing.text import text_to_word_sequence\n",
    "\n",
    "word = text_to_word_sequence(text, lower=True, split=' ')\n",
    "print(word)\n",
    "vocab_size = len(word)\n",
    "print(vocab_size)"
   ]
  },
  {
   "cell_type": "code",
   "execution_count": 10,
   "id": "d7b3e83a-934c-46b7-a873-300d26fc2d92",
   "metadata": {},
   "outputs": [
    {
     "data": {
      "text/plain": [
       "['hello', 'ramsaheb,', 'how', 'are', 'you?']"
      ]
     },
     "execution_count": 10,
     "metadata": {},
     "output_type": "execute_result"
    }
   ],
   "source": [
    "text_to_word_sequence(text, filters='#', lower=True, split=' ')"
   ]
  },
  {
   "cell_type": "code",
   "execution_count": 11,
   "id": "5114459b-d01c-4e22-97e9-5c187e6a334d",
   "metadata": {},
   "outputs": [
    {
     "data": {
      "text/plain": [
       "[6.0, 4.75, 1.0, 5.5, 5.0]"
      ]
     },
     "execution_count": 11,
     "metadata": {},
     "output_type": "execute_result"
    }
   ],
   "source": [
    "from tensorflow.keras.preprocessing.text import one_hot\n",
    "\n",
    "one_hot(text, n=vocab_size*1.25, lower=True, split=' ')"
   ]
  },
  {
   "cell_type": "code",
   "execution_count": 12,
   "id": "e30366dd-60e6-4e55-811c-d31bb93c9204",
   "metadata": {},
   "outputs": [
    {
     "data": {
      "text/plain": [
       "[1.25, 1.75, 1.0, 4.75, 4.25]"
      ]
     },
     "execution_count": 12,
     "metadata": {},
     "output_type": "execute_result"
    }
   ],
   "source": [
    "from tensorflow.keras.preprocessing.text import hashing_trick\n",
    "\n",
    "hashing_trick(text, n=vocab_size*1.25, hash_function='md5')"
   ]
  },
  {
   "cell_type": "code",
   "execution_count": 13,
   "id": "26044000-7af8-4bd8-8403-ca4404c47b6f",
   "metadata": {},
   "outputs": [],
   "source": [
    "from tensorflow.keras.preprocessing.text import Tokenizer\n",
    "\n",
    "tk = Tokenizer()\n",
    "tk.fit_on_texts(word)"
   ]
  },
  {
   "cell_type": "code",
   "execution_count": 14,
   "id": "1aad2f87-1c7d-4b36-ac87-3ab883139652",
   "metadata": {},
   "outputs": [
    {
     "name": "stdout",
     "output_type": "stream",
     "text": [
      "OrderedDict([('hello', 1), ('ramsaheb', 1), ('how', 1), ('are', 1), ('you', 1)])\n",
      "5\n",
      "{'hello': 1, 'ramsaheb': 2, 'how': 3, 'are': 4, 'you': 5}\n",
      "defaultdict(<class 'int'>, {'hello': 1, 'ramsaheb': 1, 'how': 1, 'are': 1, 'you': 1})\n"
     ]
    }
   ],
   "source": [
    "print(tk.word_counts)\n",
    "print(tk.document_count)\n",
    "print(tk.word_index)\n",
    "print(tk.word_docs)"
   ]
  },
  {
   "cell_type": "code",
   "execution_count": 15,
   "id": "93e114ba-0670-4681-b6d2-e7b572d58adc",
   "metadata": {},
   "outputs": [
    {
     "name": "stdout",
     "output_type": "stream",
     "text": [
      "[[1], [2], [3], [4], [5]]\n"
     ]
    }
   ],
   "source": [
    "seq = tk.texts_to_sequences((word))\n",
    "print(seq)\n",
    "\n"
   ]
  },
  {
   "cell_type": "code",
   "execution_count": 16,
   "id": "50859e4d-03e2-4088-bf5f-6a6ca453712a",
   "metadata": {},
   "outputs": [
    {
     "name": "stdout",
     "output_type": "stream",
     "text": [
      "[[0. 1. 0. 0. 0. 0.]\n",
      " [0. 0. 1. 0. 0. 0.]\n",
      " [0. 0. 0. 1. 0. 0.]\n",
      " [0. 0. 0. 0. 1. 0.]\n",
      " [0. 0. 0. 0. 0. 1.]]\n"
     ]
    }
   ],
   "source": [
    "encoded_docs = tk.texts_to_matrix(word, mode='count')\n",
    "print(encoded_docs)"
   ]
  },
  {
   "cell_type": "markdown",
   "id": "84ae0a75-3d0b-4663-ab3c-623d13a84870",
   "metadata": {},
   "source": [
    "# Image Preprocessing"
   ]
  },
  {
   "cell_type": "code",
   "execution_count": 17,
   "id": "76676cc0-43ce-495b-80b2-1d1a26d46557",
   "metadata": {},
   "outputs": [],
   "source": [
    "from tensorflow.keras.preprocessing.image import ImageDataGenerator\n",
    "from tensorflow.keras.utils import to_categorical\n",
    "from tensorflow.keras.datasets import mnist\n",
    "from matplotlib import pyplot\n",
    "import numpy as np"
   ]
  },
  {
   "cell_type": "code",
   "execution_count": 28,
   "id": "bd33ec5c-bb86-4d1a-bf16-77bf5cdfd2b4",
   "metadata": {},
   "outputs": [
    {
     "data": {
      "image/png": "[encoded data removed]",
      "text/plain": [
       "<Figure size 640x480 with 9 Axes>"
      ]
     },
     "metadata": {},
     "output_type": "display_data"
    }
   ],
   "source": [
    "(x_train, y_train), (x_test, y_test) = mnist.load_data()\n",
    "\n",
    "for i in range(9):\n",
    "    pyplot.subplot(330 + 1 + i)\n",
    "    pyplot.imshow(x_train[i], cmap=pyplot.get_cmap('gray'))\n",
    "pyplot.show()"
   ]
  },
  {
   "cell_type": "code",
   "execution_count": 29,
   "id": "743cbf50-dccb-4039-967e-1a154535ea55",
   "metadata": {},
   "outputs": [
    {
     "name": "stdout",
     "output_type": "stream",
     "text": [
      "x_train shape before: (60000, 28, 28)\n",
      "x_test shape before: (10000, 28, 28)\n",
      "x_train shape after: (60000, 28, 28, 1)\n",
      "x_test shape after: (10000, 28, 28, 1)\n"
     ]
    }
   ],
   "source": [
    "# Check initial shapes\n",
    "print(\"x_train shape before:\", x_train.shape)\n",
    "print(\"x_test shape before:\", x_test.shape)\n",
    "\n",
    "# Reshape the data\n",
    "x_train = x_train.reshape((x_train.shape[0], 28, 28, 1))\n",
    "x_test = x_test.reshape((x_test.shape[0], 28, 28, 1))\n",
    "\n",
    "# Convert to float32\n",
    "x_train = x_train.astype('float32')\n",
    "x_test = x_test.astype('float32')\n",
    "\n",
    "# Normalize values\n",
    "x_train /= 255.0\n",
    "x_test /= 255.0\n",
    "\n",
    "# Verify final shapes\n",
    "print(\"x_train shape after:\", x_train.shape)\n",
    "print(\"x_test shape after:\", x_test.shape)\n"
   ]
  },
  {
   "cell_type": "code",
   "execution_count": 35,
   "id": "8f393ae7-8ea1-42f2-baa7-e9ca747a5eeb",
   "metadata": {},
   "outputs": [],
   "source": [
    "datagen = ImageDataGenerator(\n",
    "    featurewise_center=False,\n",
    "    samplewise_center=False,\n",
    "    featurewise_std_normalization=False,\n",
    "    samplewise_std_normalization=False,\n",
    "    zca_whitening=False,\n",
    "    zca_epsilon=1e-06,\n",
    "    width_shift_range=0.0,\n",
    "    height_shift_range=0.0,\n",
    "    rotation_range=20,\n",
    "    shear_range=0.0,\n",
    "    zoom_range=0.0,\n",
    "    horizontal_flip=True,\n",
    "    vertical_flip=False,\n",
    "    fill_mode='nearest',\n",
    "    cval=0.0,\n",
    "    rescale=None,\n",
    "    data_format=None,\n",
    "    validation_split=0.0,\n",
    "    dtype=None\n",
    ")\n"
   ]
  },
  {
   "cell_type": "code",
   "execution_count": 37,
   "id": "e2274534-e4de-4514-8645-468a934918da",
   "metadata": {},
   "outputs": [],
   "source": [
    "datagen = ImageDataGenerator(horizontal_flip=True, vertical_flip=True)\n",
    "\n",
    "datagen.fit(x_train)"
   ]
  },
  {
   "cell_type": "code",
   "execution_count": 38,
   "id": "3138af3b-750d-426e-b3bf-f311b116f338",
   "metadata": {},
   "outputs": [
    {
     "data": {
      "image/png": "[encoded data removed]",
      "text/plain": [
       "<Figure size 640x480 with 9 Axes>"
      ]
     },
     "metadata": {},
     "output_type": "display_data"
    }
   ],
   "source": [
    "for x_batch, y_batch in datagen.flow(x_train, y_train, shuffle=False, batch_size=9):\n",
    "    for i in range(9):\n",
    "        pyplot.subplot(330 + 1 + i)\n",
    "        pyplot.imshow(x_batch[i].reshape(28, 28), cmap=pyplot.get_cmap('gray'))\n",
    "    pyplot.show()\n",
    "    break"
   ]
  },
  {
   "cell_type": "code",
   "execution_count": null,
   "id": "089b5b7e-79a1-49a5-82e7-c9e928d23424",
   "metadata": {},
   "outputs": [],
   "source": []
  }
 ],
 "metadata": {
  "kernelspec": {
   "display_name": "Python 3 (ipykernel)",
   "language": "python",
   "name": "python3"
  },
  "language_info": {
   "codemirror_mode": {
    "name": "ipython",
    "version": 3
   },
   "file_extension": ".py",
   "mimetype": "text/x-python",
   "name": "python",
   "nbconvert_exporter": "python",
   "pygments_lexer": "ipython3",
   "version": "3.10.13"
  }
 },
 "nbformat": 4,
 "nbformat_minor": 5
}
